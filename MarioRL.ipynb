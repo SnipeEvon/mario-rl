{
 "cells": [
  {
   "cell_type": "code",
   "execution_count": 4,
   "id": "f5c57758-2afd-4fa7-930f-48a2ce93aa65",
   "metadata": {},
   "outputs": [
    {
     "name": "stdout",
     "output_type": "stream",
     "text": [
      "Collecting gym-super-mario-bros\n",
      "  Downloading gym_super_mario_bros-7.4.0-py3-none-any.whl.metadata (10 kB)\n",
      "Collecting nes-py>=8.1.4 (from gym-super-mario-bros)\n",
      "  Downloading nes_py-8.2.1.tar.gz (77 kB)\n",
      "  Preparing metadata (setup.py): started\n",
      "  Preparing metadata (setup.py): finished with status 'done'\n",
      "Collecting gym>=0.17.2 (from nes-py>=8.1.4->gym-super-mario-bros)\n",
      "  Downloading gym-0.26.2.tar.gz (721 kB)\n",
      "     ---------------------------------------- 0.0/721.7 kB ? eta -:--:--\n",
      "     -------------------------------------- 721.7/721.7 kB 9.8 MB/s eta 0:00:00\n",
      "  Installing build dependencies: started\n",
      "  Installing build dependencies: finished with status 'done'\n",
      "  Getting requirements to build wheel: started\n",
      "  Getting requirements to build wheel: finished with status 'done'\n",
      "  Preparing metadata (pyproject.toml): started\n",
      "  Preparing metadata (pyproject.toml): finished with status 'done'\n",
      "Collecting numpy>=1.18.5 (from nes-py>=8.1.4->gym-super-mario-bros)\n",
      "  Downloading numpy-2.2.1-cp312-cp312-win_amd64.whl.metadata (60 kB)\n",
      "Collecting pyglet<=1.5.21,>=1.4.0 (from nes-py>=8.1.4->gym-super-mario-bros)\n",
      "  Downloading pyglet-1.5.21-py3-none-any.whl.metadata (7.6 kB)\n",
      "Collecting tqdm>=4.48.2 (from nes-py>=8.1.4->gym-super-mario-bros)\n",
      "  Downloading tqdm-4.67.1-py3-none-any.whl.metadata (57 kB)\n",
      "Collecting cloudpickle>=1.2.0 (from gym>=0.17.2->nes-py>=8.1.4->gym-super-mario-bros)\n",
      "  Downloading cloudpickle-3.1.0-py3-none-any.whl.metadata (7.0 kB)\n",
      "Collecting gym_notices>=0.0.4 (from gym>=0.17.2->nes-py>=8.1.4->gym-super-mario-bros)\n",
      "  Downloading gym_notices-0.0.8-py3-none-any.whl.metadata (1.0 kB)\n",
      "Requirement already satisfied: colorama in c:\\users\\roots\\anaconda3\\envs\\rl_tutorial_env\\lib\\site-packages (from tqdm>=4.48.2->nes-py>=8.1.4->gym-super-mario-bros) (0.4.6)\n",
      "Downloading gym_super_mario_bros-7.4.0-py3-none-any.whl (199 kB)\n",
      "Downloading numpy-2.2.1-cp312-cp312-win_amd64.whl (12.6 MB)\n",
      "   ---------------------------------------- 0.0/12.6 MB ? eta -:--:--\n",
      "   ------------------------------------ --- 11.5/12.6 MB 55.3 MB/s eta 0:00:01\n",
      "   ---------------------------------------- 12.6/12.6 MB 41.6 MB/s eta 0:00:00\n",
      "Downloading pyglet-1.5.21-py3-none-any.whl (1.1 MB)\n",
      "   ---------------------------------------- 0.0/1.1 MB ? eta -:--:--\n",
      "   ---------------------------------------- 1.1/1.1 MB 27.8 MB/s eta 0:00:00\n",
      "Downloading tqdm-4.67.1-py3-none-any.whl (78 kB)\n",
      "Downloading cloudpickle-3.1.0-py3-none-any.whl (22 kB)\n",
      "Downloading gym_notices-0.0.8-py3-none-any.whl (3.0 kB)\n",
      "Building wheels for collected packages: nes-py, gym\n",
      "  Building wheel for nes-py (setup.py): started\n",
      "  Building wheel for nes-py (setup.py): finished with status 'done'\n",
      "  Created wheel for nes-py: filename=nes_py-8.2.1-cp312-cp312-win_amd64.whl size=47074 sha256=01a8ee02a78dc0a017cb22cde8b534a5e19f4d90a3d048ae52264fce5be4155b\n",
      "  Stored in directory: c:\\users\\roots\\appdata\\local\\pip\\cache\\wheels\\1f\\a7\\fa\\9b0357f258d2e68bdc71df972e02418bceb02355ac1f365c59\n",
      "  Building wheel for gym (pyproject.toml): started\n",
      "  Building wheel for gym (pyproject.toml): finished with status 'done'\n",
      "  Created wheel for gym: filename=gym-0.26.2-py3-none-any.whl size=827635 sha256=d5b87dde81a70f25003385530cc8cca832958dffd574250a9f12f2af89242e3d\n",
      "  Stored in directory: c:\\users\\roots\\appdata\\local\\pip\\cache\\wheels\\95\\51\\6c\\9bb05ebbe7c5cb8171dfaa3611f32622ca4658d53f31c79077\n",
      "Successfully built nes-py gym\n",
      "Installing collected packages: pyglet, gym_notices, tqdm, numpy, cloudpickle, gym, nes-py, gym-super-mario-bros\n",
      "Successfully installed cloudpickle-3.1.0 gym-0.26.2 gym-super-mario-bros-7.4.0 gym_notices-0.0.8 nes-py-8.2.1 numpy-2.2.1 pyglet-1.5.21 tqdm-4.67.1\n",
      "Note: you may need to restart the kernel to use updated packages.\n"
     ]
    }
   ],
   "source": [
    "pip install gym-super-mario-bros"
   ]
  },
  {
   "cell_type": "code",
   "execution_count": 5,
   "id": "f3cc4cb9-48e0-4b14-8b86-7f32a5fa7d67",
   "metadata": {
    "scrolled": true
   },
   "outputs": [
    {
     "name": "stdout",
     "output_type": "stream",
     "text": [
      "Requirement already satisfied: nes-py in c:\\users\\roots\\anaconda3\\envs\\rl_tutorial_env\\lib\\site-packages (8.2.1)\n",
      "Requirement already satisfied: gym>=0.17.2 in c:\\users\\roots\\anaconda3\\envs\\rl_tutorial_env\\lib\\site-packages (from nes-py) (0.26.2)\n",
      "Requirement already satisfied: numpy>=1.18.5 in c:\\users\\roots\\anaconda3\\envs\\rl_tutorial_env\\lib\\site-packages (from nes-py) (2.2.1)\n",
      "Requirement already satisfied: pyglet<=1.5.21,>=1.4.0 in c:\\users\\roots\\anaconda3\\envs\\rl_tutorial_env\\lib\\site-packages (from nes-py) (1.5.21)\n",
      "Requirement already satisfied: tqdm>=4.48.2 in c:\\users\\roots\\anaconda3\\envs\\rl_tutorial_env\\lib\\site-packages (from nes-py) (4.67.1)\n",
      "Requirement already satisfied: cloudpickle>=1.2.0 in c:\\users\\roots\\anaconda3\\envs\\rl_tutorial_env\\lib\\site-packages (from gym>=0.17.2->nes-py) (3.1.0)\n",
      "Requirement already satisfied: gym_notices>=0.0.4 in c:\\users\\roots\\anaconda3\\envs\\rl_tutorial_env\\lib\\site-packages (from gym>=0.17.2->nes-py) (0.0.8)\n",
      "Requirement already satisfied: colorama in c:\\users\\roots\\anaconda3\\envs\\rl_tutorial_env\\lib\\site-packages (from tqdm>=4.48.2->nes-py) (0.4.6)\n",
      "Note: you may need to restart the kernel to use updated packages.\n"
     ]
    }
   ],
   "source": [
    "pip install nes-py"
   ]
  },
  {
   "cell_type": "code",
   "execution_count": 4,
   "id": "3386729f-2ffd-4388-8b55-456f3678af46",
   "metadata": {},
   "outputs": [],
   "source": [
    "# Import the game\n",
    "import gym_super_mario_bros\n",
    "# Import the Joypad wrapper\n",
    "from nes_py.wrappers import JoypadSpace\n",
    "# Import the SIMPLIFIED controls\n",
    "from gym_super_mario_bros.actions import SIMPLE_MOVEMENT"
   ]
  },
  {
   "cell_type": "code",
   "execution_count": 5,
   "id": "34f99d07-3a36-44fd-813f-131154a66486",
   "metadata": {},
   "outputs": [
    {
     "data": {
      "text/plain": [
       "[['NOOP'],\n",
       " ['right'],\n",
       " ['right', 'A'],\n",
       " ['right', 'B'],\n",
       " ['right', 'A', 'B'],\n",
       " ['A'],\n",
       " ['left']]"
      ]
     },
     "execution_count": 5,
     "metadata": {},
     "output_type": "execute_result"
    }
   ],
   "source": [
    "SIMPLE_MOVEMENT"
   ]
  },
  {
   "cell_type": "code",
   "execution_count": null,
   "id": "3b5741c5-126e-47a8-b2fb-ce4e5f8eb98e",
   "metadata": {},
   "outputs": [],
   "source": []
  }
 ],
 "metadata": {
  "kernelspec": {
   "display_name": "Python 3 (ipykernel)",
   "language": "python",
   "name": "python3"
  },
  "language_info": {
   "codemirror_mode": {
    "name": "ipython",
    "version": 3
   },
   "file_extension": ".py",
   "mimetype": "text/x-python",
   "name": "python",
   "nbconvert_exporter": "python",
   "pygments_lexer": "ipython3",
   "version": "3.12.8"
  }
 },
 "nbformat": 4,
 "nbformat_minor": 5
}
